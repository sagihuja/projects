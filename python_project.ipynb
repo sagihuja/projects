{
  "nbformat": 4,
  "nbformat_minor": 0,
  "metadata": {
    "colab": {
      "name": "Untitled1.ipynb",
      "provenance": [],
      "collapsed_sections": [],
      "authorship_tag": "ABX9TyMasdiMudXv7NvGHFiDVupr",
      "include_colab_link": true
    },
    "kernelspec": {
      "name": "python3",
      "display_name": "Python 3"
    },
    "language_info": {
      "name": "python"
    }
  },
  "cells": [
    {
      "cell_type": "markdown",
      "metadata": {
        "id": "view-in-github",
        "colab_type": "text"
      },
      "source": [
        "<a href=\"https://colab.research.google.com/github/sagihuja/projects/blob/main/python_project.ipynb\" target=\"_parent\"><img src=\"https://colab.research.google.com/assets/colab-badge.svg\" alt=\"Open In Colab\"/></a>"
      ]
    },
    {
      "cell_type": "code",
      "metadata": {
        "id": "7Uvz21XDcBs8"
      },
      "source": [
        "import requests\n",
        "import re\n",
        "from bs4 import BeautifulSoup as bs"
      ],
      "execution_count": 1,
      "outputs": []
    },
    {
      "cell_type": "code",
      "metadata": {
        "id": "k0Q1M_nrcKMf"
      },
      "source": [
        "###Enter srticale_id \n",
        "\n",
        "def get_article_url(article_id):\n",
        "    server = 'https://pubmed.ncbi.nlm.nih.gov/?linkname=pubmed_pubmed_citedin&from_uid='\n",
        "    url = f'{server}{article_id}'\n",
        "    print('Link to the article on Pubmed:',url,'\\n')\n",
        "    return url\n",
        "\n",
        "def get_article_html(article_id): \n",
        "    \"\"\"\n",
        "    get_article_html is a function .\n",
        "    \"\"\"     \n",
        "    url = get_article_url(article_id)\n",
        "    \n",
        "    r = requests.get(url)\n",
        "    r.raise_for_status()\n",
        "\n",
        "    return r.text\n",
        "\n",
        "def get_cited_amount(article_id):\n",
        "    \"\"\"\n",
        "    This function received the article number and retreives the number of times\n",
        "    it was citated back.\n",
        "    \"\"\"\n",
        "    soup = bs(get_article_html(article_id), 'html5lib')\n",
        "    find_amount = soup.find_all('span', attrs={'class': 'value'})\n",
        "    for line in find_amount:\n",
        "        print(f\"Citation Amount: {line.text}\\n\")\n",
        "\n",
        "def get_number_citation_pages(article_id):\n",
        "    soup = bs(get_article_html(article_id), 'html5lib')\n",
        "    find_number_citation_pages = soup.find_all('label', attrs={'class': 'of-total-pages'})\n",
        "    for line in find_number_citation_pages:\n",
        "      print(f\"Number of pages: {line.text}\\n\")\n",
        "\n",
        "def get_intersting_stuff(article_id):\n",
        "    soup = bs(get_article_html(article_id), 'html5lib')\n",
        "    results = {\n",
        "        'publication' : get_publication(soup),\n",
        "        'title' : get_title(soup)\n",
        "    }\n",
        "    return results"
      ],
      "execution_count": 99,
      "outputs": []
    },
    {
      "cell_type": "code",
      "metadata": {
        "colab": {
          "base_uri": "https://localhost:8080/",
          "height": 565
        },
        "id": "xwQ0OEpgfLwq",
        "outputId": "33b6774d-594f-41ca-a2e1-4f8da6a6b013"
      },
      "source": [
        "#get_article_url(25118243)\n",
        "#get_article_html(25118243)\n",
        "get_cited_amount(25118243)\n",
        "get_number_citation_pages(25118243)\n",
        "get_intersting_stuff(25118243)"
      ],
      "execution_count": 102,
      "outputs": [
        {
          "output_type": "stream",
          "name": "stdout",
          "text": [
            "Link to the article on Pubmed: https://pubmed.ncbi.nlm.nih.gov/?linkname=pubmed_pubmed_citedin&from_uid=25118243 \n",
            "\n",
            "Citation Amount: 11\n",
            "\n",
            "Citation Amount: 11\n",
            "\n",
            "Link to the article on Pubmed: https://pubmed.ncbi.nlm.nih.gov/?linkname=pubmed_pubmed_citedin&from_uid=25118243 \n",
            "\n",
            "Number of pages: of 2\n",
            "\n",
            "Number of pages: of 2\n",
            "\n",
            "Link to the article on Pubmed: https://pubmed.ncbi.nlm.nih.gov/?linkname=pubmed_pubmed_citedin&from_uid=25118243 \n",
            "\n"
          ]
        },
        {
          "output_type": "error",
          "ename": "NameError",
          "evalue": "ignored",
          "traceback": [
            "\u001b[0;31m---------------------------------------------------------------------------\u001b[0m",
            "\u001b[0;31mNameError\u001b[0m                                 Traceback (most recent call last)",
            "\u001b[0;32m<ipython-input-102-f33b83db2927>\u001b[0m in \u001b[0;36m<module>\u001b[0;34m()\u001b[0m\n\u001b[1;32m      3\u001b[0m \u001b[0mget_cited_amount\u001b[0m\u001b[0;34m(\u001b[0m\u001b[0;36m25118243\u001b[0m\u001b[0;34m)\u001b[0m\u001b[0;34m\u001b[0m\u001b[0;34m\u001b[0m\u001b[0m\n\u001b[1;32m      4\u001b[0m \u001b[0mget_number_citation_pages\u001b[0m\u001b[0;34m(\u001b[0m\u001b[0;36m25118243\u001b[0m\u001b[0;34m)\u001b[0m\u001b[0;34m\u001b[0m\u001b[0;34m\u001b[0m\u001b[0m\n\u001b[0;32m----> 5\u001b[0;31m \u001b[0mget_intersting_stuff\u001b[0m\u001b[0;34m(\u001b[0m\u001b[0;36m25118243\u001b[0m\u001b[0;34m)\u001b[0m\u001b[0;34m\u001b[0m\u001b[0;34m\u001b[0m\u001b[0m\n\u001b[0m",
            "\u001b[0;32m<ipython-input-99-e90a0f64fa68>\u001b[0m in \u001b[0;36mget_intersting_stuff\u001b[0;34m(article_id)\u001b[0m\n\u001b[1;32m     37\u001b[0m     \u001b[0msoup\u001b[0m \u001b[0;34m=\u001b[0m \u001b[0mbs\u001b[0m\u001b[0;34m(\u001b[0m\u001b[0mget_article_html\u001b[0m\u001b[0;34m(\u001b[0m\u001b[0marticle_id\u001b[0m\u001b[0;34m)\u001b[0m\u001b[0;34m,\u001b[0m \u001b[0;34m'html5lib'\u001b[0m\u001b[0;34m)\u001b[0m\u001b[0;34m\u001b[0m\u001b[0;34m\u001b[0m\u001b[0m\n\u001b[1;32m     38\u001b[0m     results = {\n\u001b[0;32m---> 39\u001b[0;31m         \u001b[0;34m'publication'\u001b[0m \u001b[0;34m:\u001b[0m \u001b[0mget_publication\u001b[0m\u001b[0;34m(\u001b[0m\u001b[0msoup\u001b[0m\u001b[0;34m)\u001b[0m\u001b[0;34m,\u001b[0m\u001b[0;34m\u001b[0m\u001b[0;34m\u001b[0m\u001b[0m\n\u001b[0m\u001b[1;32m     40\u001b[0m         \u001b[0;34m'title'\u001b[0m \u001b[0;34m:\u001b[0m \u001b[0mget_title\u001b[0m\u001b[0;34m(\u001b[0m\u001b[0msoup\u001b[0m\u001b[0;34m)\u001b[0m\u001b[0;34m\u001b[0m\u001b[0;34m\u001b[0m\u001b[0m\n\u001b[1;32m     41\u001b[0m     }\n",
            "\u001b[0;31mNameError\u001b[0m: name 'get_publication' is not defined"
          ]
        }
      ]
    },
    {
      "cell_type": "code",
      "metadata": {
        "id": "JDlHVLqwcRee"
      },
      "source": [
        "#root = Article(25118243)\n",
        "#print(root) # \"Article: 'Alternartive splicing...', 10 Citings, impact 20, publication=nature \" \n",
        "#for article in root.get_cited_by():\n",
        "#    print(article)\n",
        "#print(root.total_impact())\n",
        "#print(sum([article.impact for article in root.get_cited_by()])) \n",
        "\n",
        "#first_degree = {article for article in root.get_cited_by()}\n",
        "#seconds_degree = {article2 for article in first_degree for article2 in article.get_cited_by()}\n",
        "#total = first_degree | seconds_degree\n",
        "\n",
        "#assert total == article.get_cited_by(degrees=2) "
      ],
      "execution_count": 4,
      "outputs": []
    },
    {
      "cell_type": "code",
      "metadata": {
        "colab": {
          "base_uri": "https://localhost:8080/"
        },
        "id": "8kGq06HTelr8",
        "outputId": "dc6249c2-2b2a-4691-9947-9b771e3227f1"
      },
      "source": [
        "get_cited_amount(25118243)"
      ],
      "execution_count": 69,
      "outputs": [
        {
          "output_type": "stream",
          "name": "stdout",
          "text": [
            "Link to the article on Pubmed: https://pubmed.ncbi.nlm.nih.gov/?linkname=pubmed_pubmed_citedin&from_uid=25118243 \n",
            "\n",
            "Citation Amount: 11\n",
            "\n",
            "Citation Amount: 11\n",
            "\n"
          ]
        }
      ]
    },
    {
      "cell_type": "code",
      "metadata": {
        "colab": {
          "base_uri": "https://localhost:8080/"
        },
        "id": "s5iUzfKghpwm",
        "outputId": "a43e365b-2109-48ab-b7f9-66b8971d3f5a"
      },
      "source": [
        "num_page(25118243)"
      ],
      "execution_count": 70,
      "outputs": [
        {
          "output_type": "stream",
          "name": "stdout",
          "text": [
            "Link to the article on Pubmed: https://pubmed.ncbi.nlm.nih.gov/?linkname=pubmed_pubmed_citedin&from_uid=25118243 \n",
            "\n",
            "Number of pages: of 2\n",
            "\n",
            "Number of pages: of 2\n",
            "\n"
          ]
        }
      ]
    },
    {
      "cell_type": "code",
      "metadata": {
        "id": "qYW8630js6Ox"
      },
      "source": [
        "class Article:\n",
        "    def get_url(self):\n",
        "        return \n",
        "    def __init__(self, id):\n",
        "        self.html = requests.get(self.get_url()).text\n",
        "        self.publication = how to fetch it from the HTML\n",
        "        self.title =  \n",
        "\n",
        "    \n",
        "    def get_citation_amount(self):\n",
        "\n"
      ],
      "execution_count": null,
      "outputs": []
    }
  ]
}