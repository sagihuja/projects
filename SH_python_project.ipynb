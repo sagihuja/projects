{
  "nbformat": 4,
  "nbformat_minor": 0,
  "metadata": {
    "colab": {
      "name": "SH_python_project_final.ipynb",
      "provenance": [],
      "collapsed_sections": [],
      "authorship_tag": "ABX9TyMlHCW6x4OFt5zYjLeG7VNP",
      "include_colab_link": true
    },
    "kernelspec": {
      "name": "python3",
      "display_name": "Python 3"
    },
    "language_info": {
      "name": "python"
    }
  },
  "cells": [
    {
      "cell_type": "markdown",
      "metadata": {
        "id": "view-in-github",
        "colab_type": "text"
      },
      "source": [
        "<a href=\"https://colab.research.google.com/github/sagihuja/projects/blob/main/SH_python_project.ipynb\" target=\"_parent\"><img src=\"https://colab.research.google.com/assets/colab-badge.svg\" alt=\"Open In Colab\"/></a>"
      ]
    },
    {
      "cell_type": "markdown",
      "source": [
        "**Pubmed Article Assistant Tool**\n",
        ">This tool is aimed for receiving an article PMID (pubmed id), and by using web scraping, provide back usuful information resides in other websites, regarding it:\n",
        "\n",
        "*   A link to the Pubmed article.\n",
        "*   Number of citations it received.\n",
        "*   A list of all the articles citating the article, their PMID, title, journal name and year of publication.\n",
        "*   Specific Link to scijournal web site pointing to each journal impact factor\n",
        "\n",
        "https://pubmed.ncbi.nlm.nih.gov/\n",
        "\n",
        "https://www.scijournal.org/\n",
        "\n",
        "Impact Factor (IF) = is a measure reflecting the average number of citations to articles published in science and social science journals. It is frequently used as a proxy for the relative importance of a journal within its field, with journals with higher impact factors deemed to be more important than those with lower ones https://www.scijournal.org/"
      ],
      "metadata": {
        "id": "kpd6jAtkcNtr"
      }
    },
    {
      "cell_type": "code",
      "metadata": {
        "id": "RkPhlP10qBsF"
      },
      "source": [
        "import requests\n",
        "import re\n",
        "from bs4 import BeautifulSoup as bs\n",
        "from dataclasses import dataclass"
      ],
      "execution_count": 108,
      "outputs": []
    },
    {
      "cell_type": "code",
      "metadata": {
        "id": "zboMuH9iqCak"
      },
      "source": [
        "def get_article_url(article_id, page=1):\n",
        "    \"\"\"\n",
        "    get_article_url function receives the article id and returns its\n",
        "    coresponding Pubmed cited by URL address.\n",
        "    \"\"\"\n",
        "    server = 'https://pubmed.ncbi.nlm.nih.gov/?linkname=pubmed_pubmed_citedin&from_uid='\n",
        "    url = f'{server}{article_id}&page={page}'\n",
        "    return url\n",
        "\n",
        "def get_article_html(article_id, page=1): \n",
        "    \"\"\"\n",
        "    get_article_html function receives the article id and in return\n",
        "    fetches its coresponding Pubmed HTML page (default page is \"1\").\n",
        "    \"\"\"     \n",
        "    url = get_article_url(article_id,page=page) \n",
        "    r = requests.get(url)\n",
        "    r.raise_for_status()\n",
        "    return r.text\n",
        "\n",
        "def get_cited_amount(soup):\n",
        "    \"\"\"\n",
        "    get_cited_amount function retreives the number of times the article was \n",
        "    cited back.\n",
        "    \"\"\"\n",
        "    find_amount = soup.find('span', {\"class\":\"value\"}).get_text()\n",
        "    print('Total number of citations found for this article is: ',find_amount)\n",
        "\n",
        "def get_number_citation_pages(soup):\n",
        "    \"\"\"\n",
        "    get_number_citation_pages function retreives internaly from the URL the \n",
        "    number of pages the article was \"cited by\".\n",
        "    \"\"\"\n",
        "    find_number_citation_pages = soup.find(\n",
        "                                'label', {\"class\":\"of-total-pages\"}).get_text()\n",
        "    number_citating_pages = (find_number_citation_pages.split()[1])\n",
        "    print(\n",
        "    f'Number of citiation pages for this article on \"Pubmed\" web site is: {number_citating_pages}'\n",
        "    )\n",
        "    value_citating_pages = int(number_citating_pages)\n",
        "    return value_citating_pages\n",
        "        \n",
        "def collect_article_info(soup):\n",
        "    \"\"\"\n",
        "    collect_article_info function retreives the citating articles PMID, title, \n",
        "    name of journal and year of publication.\n",
        "    \"\"\"\n",
        "    articles = {}\n",
        "    collect_relevant_article_info = soup.find_all(\n",
        "                                    'div', attrs={'class': 'docsum-content'})\n",
        "    for line in collect_relevant_article_info:\n",
        "      articles[\"PMID\"] = line.find(\n",
        "        \"a\", attrs={'class': 'docsum-title'}).get('data-article-id')\n",
        "      articles[\"Title: \"] = line.find(\n",
        "        \"a\", attrs={'class': 'docsum-title'}).text.strip()[:30]\n",
        "      articles[\"Journal name: \"] = line.find(\n",
        "        \"span\", attrs={'class': 'docsum-journal-citation short-journal-citation'}\n",
        "        ).text.strip()\n",
        "      print(\"Articles information: \", articles)\n",
        "\n",
        "@dataclass\n",
        "class CitingArticle:\n",
        "    journal_name:str\n",
        "    impact_factor:float\n",
        "\n",
        "def get_journals_impact_factor_urls(soup):\n",
        "    \"\"\"\n",
        "    get_journals_impact_factor_urls function extracts each journal \n",
        "    (that exists on the site's database) Impact Factor and provides link to \n",
        "    the journal page. \n",
        "    \"\"\"\n",
        "    find_journal_name = soup.find_all(\n",
        "        'span', attrs={'class': 'docsum-journal-citation short-journal-citation'}\n",
        "        )\n",
        "    citers = []\n",
        "    for line in find_journal_name:\n",
        "        journal_name = line.text.split()\n",
        "        journal_name_short = '-'.join(journal_name[0:-1])\n",
        "        journal_impact_factor_url = (\n",
        "            f'https://www.scijournal.org/impact-factor-of-{journal_name_short}shtml'\n",
        "            )\n",
        "        print(journal_impact_factor_url)\n",
        "\n",
        "        try:\n",
        "            html_text_impact_factor_page = requests.get(journal_impact_factor_url).text\n",
        "            soup = bs(html_text_impact_factor_page, 'html5lib')\n",
        "            impact_factor = soup.find('div', class_='num').text\n",
        "            impact_factor = float(impact_factor)\n",
        "            print(impact_factor)         \n",
        "            citers.append(CitingArticle(journal_name,impact_factor))\n",
        "            citers.impact_factor\n",
        "        except AttributeError:\n",
        "            pass\n",
        "\n",
        "    number_cited = len(citers)\n",
        "    total_impact_factor = sum([c.impact_factor for c in citers])\n",
        "    mean_impact_factor = round(total_impact_factor/number_cited, 3)\n",
        "    print(f'Average IF for PMID({article_id})in this page is: {mean_impact_factor}')\n",
        "    return citers\n",
        "    return total_impact_factor"
      ],
      "execution_count": 131,
      "outputs": []
    },
    {
      "cell_type": "code",
      "source": [
        "while True:\n",
        "    valid_answer = re.compile(r\"\\d{1,8}\")\n",
        "    answer = input('Please provide the \"Pubmed\" id (PMID) for the desired article? ')\n",
        "\n",
        "    if re.fullmatch(valid_answer, answer):\n",
        "        article_id = int(answer)\n",
        "        html_text = get_article_url(article_id)\n",
        "        soup = bs(get_article_html(article_id), 'html5lib')\n",
        "        pages = get_number_citation_pages(soup)\n",
        "\n",
        "        print(html_text,\n",
        "              get_cited_amount(soup),\n",
        "              collect_article_info(soup), \n",
        "              get_journals_impact_factor_urls(soup)\n",
        "             )\n",
        "        for page in range(2, pages+1):\n",
        "            html_text = get_article_url(article_id, page=page)\n",
        "            soup = bs(get_article_html(article_id, page=page), 'html5lib')\n",
        "            print(html_text,\n",
        "              get_cited_amount(soup), \n",
        "              collect_article_info(soup), \n",
        "              get_journals_impact_factor_urls(soup)\n",
        "             )\n",
        "        break\n",
        "    elif not answer:\n",
        "        break\n",
        "    else:\n",
        "        print(f\"'{answer}' is NOT a valid PMID!\")"
      ],
      "metadata": {
        "id": "fkwW_JWgMr9m"
      },
      "execution_count": null,
      "outputs": []
    }
  ]
}