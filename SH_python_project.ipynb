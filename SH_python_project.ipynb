{
  "nbformat": 4,
  "nbformat_minor": 0,
  "metadata": {
    "colab": {
      "name": "Untitled1.ipynb",
      "provenance": [],
      "collapsed_sections": [],
      "authorship_tag": "ABX9TyOUHvoiXcSz97m0XFc+W2my",
      "include_colab_link": true
    },
    "kernelspec": {
      "name": "python3",
      "display_name": "Python 3"
    },
    "language_info": {
      "name": "python"
    }
  },
  "cells": [
    {
      "cell_type": "markdown",
      "metadata": {
        "id": "view-in-github",
        "colab_type": "text"
      },
      "source": [
        "<a href=\"https://colab.research.google.com/github/sagihuja/projects/blob/main/SH_python_project.ipynb\" target=\"_parent\"><img src=\"https://colab.research.google.com/assets/colab-badge.svg\" alt=\"Open In Colab\"/></a>"
      ]
    },
    {
      "cell_type": "code",
      "metadata": {
        "id": "RkPhlP10qBsF"
      },
      "source": [
        "import requests\n",
        "import re\n",
        "from bs4 import BeautifulSoup as bs"
      ],
      "execution_count": 1,
      "outputs": []
    },
    {
      "cell_type": "code",
      "metadata": {
        "id": "zboMuH9iqCak"
      },
      "source": [
        "\n",
        "def get_article_url(article_id, page=1):\n",
        "    \"\"\"\n",
        "    get_article_url is a function that receives the article id and returns its\n",
        "    coresponding Pubmed cited by URL address.\n",
        "    \"\"\"\n",
        "    server = 'https://pubmed.ncbi.nlm.nih.gov/?linkname=pubmed_pubmed_citedin&from_uid='\n",
        "    url = f'{server}{article_id}&page={page}'\n",
        "    #print('Link to the article on Pubmed:',url,'\\n')\n",
        "    return url\n",
        "\n",
        "def get_article_html(article_id, page=1): \n",
        "    \"\"\"\n",
        "    get_article_html is a function that receives the article id and in return\n",
        "    fetches its coresponding Pubmed HTML file.\n",
        "    \"\"\"     \n",
        "    url = get_article_url(article_id,page=page) \n",
        "    r = requests.get(url)\n",
        "    r.raise_for_status()\n",
        "    return r.text\n",
        "\n",
        "def get_cited_amount(soup):\n",
        "    \"\"\"\n",
        "    This function received the article id and retreives the number of times\n",
        "    it was citated back.\n",
        "    \"\"\"\n",
        "    # soup = bs(get_article_html(article_id), 'html5lib')\n",
        "    find_amount = soup.find('span', {\"class\":\"value\"}).get_text()\n",
        "    print('Number of citation found for this article is: ',find_amount)\n",
        "\n",
        "\n",
        "def get_number_citation_pages(soup):\n",
        "    \"\"\"\n",
        "    This functions retreives internaly from the URL the number of pages\n",
        "    containing citations in order to deal with the pagination, and gather all\n",
        "    the articles.\n",
        "    \"\"\"\n",
        "    # soup = bs(get_article_html(article_id), 'html5lib')\n",
        "    find_number_citation_pages = soup.find('label', {\"class\":\"of-total-pages\"}).get_text()\n",
        "    #print(find_number_citation_pages)\n",
        "    number_citating_pages = (find_number_citation_pages.split()[1])\n",
        "    print(f'Number of citiation pages for this article on \"Pubmed\" web site is: {number_citating_pages}')\n",
        "    value_citating_pages = int(number_citating_pages)\n",
        "    return value_citating_pages\n",
        "        \n",
        "\n",
        "def collect_article_info(soup):\n",
        "    articles = {}\n",
        "    # soup = bs(get_article_html(article_id), 'html5lib')\n",
        "    collect_relevant_article_info = soup.find_all('div', attrs={'class': 'docsum-content'})\n",
        "    #print(collect_relevant_article_info[0].text) #Prints the original article's title, autors and publication information\n",
        "    for line in collect_relevant_article_info:\n",
        "      articles[\"PMID\"] = line.find(\"a\", attrs={'class': 'docsum-title'}).get('data-article-id') \n",
        "      articles[\"Title: \"] = line.find(\"a\", attrs={'class': 'docsum-title'}).text.strip()[:30]\n",
        "      articles[\"Journal name: \"] = line.find(\"span\", attrs={'class': 'docsum-journal-citation short-journal-citation'}).text.strip()\n",
        "      print(\"Articles information: \", articles)\n",
        "\n",
        "from dataclasses import dataclass\n",
        "@dataclass\n",
        "class citing_article:\n",
        "    journal_name:str\n",
        "    #journal_name_short:str\n",
        "    impact_factor:float\n",
        "\n",
        "def get_journals_impact_factor_urls(soup):\n",
        "    # soup = bs(get_article_html(article_id), 'html5lib')\n",
        "    find_journal_name = soup.find_all('span', attrs={'class': 'docsum-journal-citation short-journal-citation'})\n",
        "    #print(find_journal_name[0].text) #Prints the original article journal title as an header\n",
        "    citers = []\n",
        "    for line in find_journal_name:\n",
        "        journal_name = line.text.split()\n",
        "        journal_name_short = '-'.join(journal_name[0:-1])\n",
        "        journal_impact_factor_url = (f'https://www.scijournal.org/impact-factor-of-{journal_name_short}shtml')\n",
        "        #print(journal_impact_factor_url)\n",
        "\n",
        "        try:\n",
        "            html_text_impact_factor_page = requests.get(journal_impact_factor_url).text\n",
        "            soup = bs(html_text_impact_factor_page, 'html5lib')\n",
        "            impact_factor = soup.find('div', class_='num').text\n",
        "            impact_factor = float(impact_factor)\n",
        "            #print(impact_factor)\n",
        "            citers.append(citing_article(journal_name,impact_factor))\n",
        "            #citers.impact_factor\n",
        "        except AttributeError:\n",
        "            pass\n",
        "    number_cited = len(citers)\n",
        "    total = sum([c.impact_factor for c in citers])\n",
        "    mean_impact_factor = total/number_cited\n",
        "    print(f'Score for PMID({article_id})is: {mean_impact_factor}')\n",
        "    return citers"
      ],
      "execution_count": 23,
      "outputs": []
    },
    {
      "cell_type": "code",
      "metadata": {
        "colab": {
          "base_uri": "https://localhost:8080/"
        },
        "id": "sRlGZB5KqJ_i",
        "outputId": "696b182b-01f7-4759-a235-109001f995a6"
      },
      "source": [
        "while True:\n",
        "    valid_answer = re.compile(r\"\\d{1,8}\")\n",
        "    answer = input('Please provide the \"Pubmed\" id (PMID) for the desired article? ')\n",
        "\n",
        "    if re.fullmatch(valid_answer, answer):\n",
        "        article_id = int(answer)\n",
        "        html_text = get_article_url(article_id)\n",
        "        soup = bs(get_article_html(article_id), 'html5lib')\n",
        "        pages = get_number_citation_pages(soup)\n",
        "\n",
        "        print(html_text,\n",
        "              get_cited_amount(soup),\n",
        "              get_number_citation_pages(soup), \n",
        "              collect_article_info(soup), \n",
        "              get_journals_impact_factor_urls(soup)\n",
        "             )\n",
        "        for page in range(2, pages+1):\n",
        "            html_text = get_article_url(article_id, page=page)\n",
        "            soup = bs(get_article_html(article_id, page=page), 'html5lib')\n",
        "            print(html_text,\n",
        "              get_cited_amount(soup),\n",
        "              get_number_citation_pages(soup), \n",
        "              collect_article_info(soup), \n",
        "              get_journals_impact_factor_urls(soup)\n",
        "             )\n",
        "        break\n",
        "    elif not answer:\n",
        "        break\n",
        "    else:\n",
        "        print(f\"'{answer}' is NOT a valid PMID!\") "
      ],
      "execution_count": 25,
      "outputs": [
        {
          "output_type": "stream",
          "name": "stdout",
          "text": [
            "Please provide the \"Pubmed\" id (PMID) for the desired article? 25118243\n",
            "Number of citiation pages for this article on \"Pubmed\" web site is: 2\n",
            "Number of citation found for this article is:  11\n",
            "Number of citiation pages for this article on \"Pubmed\" web site is: 2\n",
            "Articles information:  {'PMID': '25118243', 'Title: ': 'Fur is the master regulator of', 'Journal name: ': 'mBio. 2014.'}\n",
            "Articles information:  {'PMID': '34181459', 'Title: ': 'Surviving Serum: the Escherich', 'Journal name: ': 'Infect Immun. 2021.'}\n",
            "Articles information:  {'PMID': '34038483', 'Title: ': 'Transcriptome analysis unveils', 'Journal name: ': 'PLoS One. 2021.'}\n",
            "Articles information:  {'PMID': '33139383', 'Title: ': '(p)ppGpp-Dependent Regulation ', 'Journal name: ': 'Infect Immun. 2021.'}\n",
            "Articles information:  {'PMID': '33083114', 'Title: ': 'Master regulator genes and the', 'Journal name: ': 'PeerJ. 2020.'}\n",
            "Articles information:  {'PMID': '32443590', 'Title: ': 'Streptococcus suis Uptakes Car', 'Journal name: ': 'Pathogens. 2020.'}\n",
            "Articles information:  {'PMID': '31346171', 'Title: ': 'Glycine, serine and threonine ', 'Journal name: ': 'Nat Commun. 2019.'}\n",
            "Articles information:  {'PMID': '30404929', 'Title: ': 'Complement Susceptibility in R', 'Journal name: ': 'mSphere. 2018.'}\n",
            "Articles information:  {'PMID': '27364158', 'Title: ': 'Coordination of Metabolism and', 'Journal name: ': 'Mol Cell Proteomics. 2016.'}\n",
            "Articles information:  {'PMID': '25779571', 'Title: ': 'Bactericidal monoclonal antibo', 'Journal name: ': 'Antimicrob Agents Chemother. 2015.'}\n",
            "Score for PMID(25118243)is: 4.9472499999999995\n",
            "https://pubmed.ncbi.nlm.nih.gov/?linkname=pubmed_pubmed_citedin&from_uid=25118243&page=1 None 2 None [citing_article(journal_name=['mBio.', '2014.'], impact_factor=6.784), citing_article(journal_name=['Infect', 'Immun.', '2021.'], impact_factor=3.201), citing_article(journal_name=['PLoS', 'One.', '2021.'], impact_factor=2.74), citing_article(journal_name=['Infect', 'Immun.', '2021.'], impact_factor=3.201), citing_article(journal_name=['PeerJ.', '2020.'], impact_factor=2.379), citing_article(journal_name=['Nat', 'Commun.', '2019.'], impact_factor=12.121), citing_article(journal_name=['mSphere.', '2018.'], impact_factor=4.282), citing_article(journal_name=['Mol', 'Cell', 'Proteomics.', '2016.'], impact_factor=4.87)]\n",
            "Number of citation found for this article is:  11\n",
            "Number of citiation pages for this article on \"Pubmed\" web site is: 2\n",
            "Articles information:  {'PMID': '25587010', 'Title: ': 'Genomic avenue to avian colise', 'Journal name: ': 'mBio. 2015.'}\n",
            "Score for PMID(25118243)is: 6.784\n",
            "https://pubmed.ncbi.nlm.nih.gov/?linkname=pubmed_pubmed_citedin&from_uid=25118243&page=2 None 2 None [citing_article(journal_name=['mBio.', '2015.'], impact_factor=6.784)]\n"
          ]
        }
      ]
    },
    {
      "cell_type": "code",
      "metadata": {
        "id": "SBeCRUJar9Io"
      },
      "source": [
        ""
      ],
      "execution_count": null,
      "outputs": []
    }
  ]
}