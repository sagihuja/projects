{
  "nbformat": 4,
  "nbformat_minor": 0,
  "metadata": {
    "colab": {
      "name": "python_proj_naya.ipynb",
      "provenance": [],
      "collapsed_sections": [],
      "authorship_tag": "ABX9TyPvIundKeFxNijdD0aWyBke",
      "include_colab_link": true
    },
    "kernelspec": {
      "name": "python3",
      "display_name": "Python 3"
    },
    "language_info": {
      "name": "python"
    }
  },
  "cells": [
    {
      "cell_type": "markdown",
      "metadata": {
        "id": "view-in-github",
        "colab_type": "text"
      },
      "source": [
        "<a href=\"https://colab.research.google.com/github/sagihuja/projects/blob/main/python_proj_naya.ipynb\" target=\"_parent\"><img src=\"https://colab.research.google.com/assets/colab-badge.svg\" alt=\"Open In Colab\"/></a>"
      ]
    },
    {
      "cell_type": "code",
      "metadata": {
        "id": "KcUYPgfnD7FY"
      },
      "source": [
        "import requests\n",
        "import re\n",
        "from bs4 import BeautifulSoup as bs"
      ],
      "execution_count": 1,
      "outputs": []
    },
    {
      "cell_type": "code",
      "metadata": {
        "id": "fkpODvXzD-mR"
      },
      "source": [
        "\n",
        "def get_article_url(article_id):\n",
        "    \"\"\"\n",
        "    get_article_url is a function that receives the article id and returns its\n",
        "    coresponding Pubmed cited by URL address.\n",
        "    \"\"\"\n",
        "    server = 'https://pubmed.ncbi.nlm.nih.gov/?linkname=pubmed_pubmed_citedin&from_uid='\n",
        "    url = f'{server}{article_id}&page=1'\n",
        "    #print('Link to the article on Pubmed:',url,'\\n')\n",
        "    return url\n",
        "\n",
        "def get_article_html(article_id): \n",
        "    \"\"\"\n",
        "    get_article_html is a function that receives the article id and in return\n",
        "    fetches its coresponding Pubmed HTML file.\n",
        "    \"\"\"     \n",
        "    url = get_article_url(article_id) \n",
        "    r = requests.get(url)\n",
        "    r.raise_for_status()\n",
        "    return r.text\n",
        "\n",
        "def get_cited_amount(article_id):\n",
        "    \"\"\"\n",
        "    This function received the article id and retreives the number of times\n",
        "    it was citated back.\n",
        "    \"\"\"\n",
        "    soup = bs(get_article_html(article_id), 'html5lib')\n",
        "    find_amount = soup.find('span', {\"class\":\"value\"}).get_text()\n",
        "    print('Number of citation found for this article is: ',find_amount)\n",
        "\n",
        "\n",
        "def get_number_citation_pages(article_id):\n",
        "    \"\"\"\n",
        "    This functions retreives internaly from the URL the number of pages\n",
        "    containing citations in order to deal with the pagination, and gather all\n",
        "    the articles.\n",
        "    \"\"\"\n",
        "    soup = bs(get_article_html(article_id), 'html5lib')\n",
        "    find_number_citation_pages = soup.find('label', {\"class\":\"of-total-pages\"}).get_text()\n",
        "    #print(find_number_citation_pages)\n",
        "    number_citating_pages = (find_number_citation_pages.split()[1])\n",
        "    print(f'Number of citiation pages for this article on \"Pubmed\" web site is: {number_citating_pages}')\n",
        "    value_citating_pages = int(number_citating_pages)\n",
        "        \n",
        "\n",
        "def collect_article_info(article_id):\n",
        "    articles = {}\n",
        "    soup = bs(get_article_html(article_id), 'html5lib')\n",
        "    collect_relevant_article_info = soup.find_all('div', attrs={'class': 'docsum-content'})\n",
        "    #print(collect_relevant_article_info[0].text) #Prints the original article's title, autors and publication information\n",
        "    for line in collect_relevant_article_info:\n",
        "      articles[\"PMID\"] = line.find(\"a\", attrs={'class': 'docsum-title'}).get('data-article-id') \n",
        "      articles[\"Title: \"] = line.find(\"a\", attrs={'class': 'docsum-title'}).text.strip()[:30]\n",
        "      articles[\"Journal name: \"] = line.find(\"span\", attrs={'class': 'docsum-journal-citation short-journal-citation'}).text.strip()\n",
        "      print(\"Articles information: \", articles)\n",
        "\n",
        "from dataclasses import dataclass\n",
        "@dataclass\n",
        "class Item:\n",
        "    journal_name:str\n",
        "    journal_name_short:str\n",
        "    impact:float\n",
        "\n",
        "def get_journals_impact_factor_urls(article_id):\n",
        "    soup = bs(get_article_html(article_id), 'html5lib')\n",
        "    find_journal_name = soup.find_all('span', attrs={'class': 'docsum-journal-citation short-journal-citation'})\n",
        "    #print(find_journal_name[0].text) #Prints the original article journal title as an header\n",
        "    citers = []\n",
        "    for line in find_journal_name:\n",
        "        journal_name = line.text.split()\n",
        "        journal_name_short = '-'.join(journal_name[0:-1])\n",
        "        journal_impact_factor_url = (f'https://www.scijournal.org/impact-factor-of-{journal_name_short}shtml')\n",
        "        print(journal_impact_factor_url)\n",
        "\n",
        "        try:\n",
        "            html_text_impact_factor_page = requests.get(journal_impact_factor_url).text\n",
        "            soup = bs(html_text_impact_factor_page, 'html5lib')\n",
        "            impact_factor = soup.find('div', class_='num').text\n",
        "            impact_factor = float(impact_factor)\n",
        "            print(impact_factor)\n",
        "            citers.append(Item(journal_name, journal_name_short, impact_factor))\n",
        "        except AttributeError:\n",
        "            pass\n",
        "    return citers"
      ],
      "execution_count": 24,
      "outputs": []
    },
    {
      "cell_type": "code",
      "metadata": {
        "colab": {
          "base_uri": "https://localhost:8080/"
        },
        "id": "iNTC_oYZXtbZ",
        "outputId": "873c7962-0146-47d2-e52a-7bca21c1f4c2"
      },
      "source": [
        "while True:\n",
        "    valid_answer = re.compile(r\"\\d{1,8}\")\n",
        "    answer = input('Please provide the \"Pubmed\" id (PMID) for the desired article? ')\n",
        "\n",
        "    if re.fullmatch(valid_answer, answer):\n",
        "        article_id = int(answer)\n",
        "        print(get_article_url(article_id), \n",
        "              get_cited_amount(article_id), \n",
        "              get_number_citation_pages(article_id), \n",
        "              collect_article_info(article_id), \n",
        "              get_journals_impact_factor_urls(article_id)\n",
        "               )\n",
        "        break\n",
        "    elif not answer:\n",
        "        break\n",
        "    else:\n",
        "        print(f\"'{answer}' is NOT a valid PMID!\") "
      ],
      "execution_count": 25,
      "outputs": [
        {
          "output_type": "stream",
          "name": "stdout",
          "text": [
            "Please provide the \"Pubmed\" id (PMID) for the desired article? 25118243\n",
            "Number of citation found for this article is:  11\n",
            "Number of citiation pages for this article on \"Pubmed\" web site is: 2\n",
            "Articles information:  {'PMID': '25118243', 'Title: ': 'Fur is the master regulator of', 'Journal name: ': 'mBio. 2014.'}\n",
            "Articles information:  {'PMID': '34181459', 'Title: ': 'Surviving Serum: the Escherich', 'Journal name: ': 'Infect Immun. 2021.'}\n",
            "Articles information:  {'PMID': '34038483', 'Title: ': 'Transcriptome analysis unveils', 'Journal name: ': 'PLoS One. 2021.'}\n",
            "Articles information:  {'PMID': '33139383', 'Title: ': '(p)ppGpp-Dependent Regulation ', 'Journal name: ': 'Infect Immun. 2021.'}\n",
            "Articles information:  {'PMID': '33083114', 'Title: ': 'Master regulator genes and the', 'Journal name: ': 'PeerJ. 2020.'}\n",
            "Articles information:  {'PMID': '32443590', 'Title: ': 'Streptococcus suis Uptakes Car', 'Journal name: ': 'Pathogens. 2020.'}\n",
            "Articles information:  {'PMID': '31346171', 'Title: ': 'Glycine, serine and threonine ', 'Journal name: ': 'Nat Commun. 2019.'}\n",
            "Articles information:  {'PMID': '30404929', 'Title: ': 'Complement Susceptibility in R', 'Journal name: ': 'mSphere. 2018.'}\n",
            "Articles information:  {'PMID': '27364158', 'Title: ': 'Coordination of Metabolism and', 'Journal name: ': 'Mol Cell Proteomics. 2016.'}\n",
            "Articles information:  {'PMID': '25779571', 'Title: ': 'Bactericidal monoclonal antibo', 'Journal name: ': 'Antimicrob Agents Chemother. 2015.'}\n",
            "https://www.scijournal.org/impact-factor-of-mBio.shtml\n",
            "6.784\n",
            "https://www.scijournal.org/impact-factor-of-Infect-Immun.shtml\n",
            "3.201\n",
            "https://www.scijournal.org/impact-factor-of-PLoS-One.shtml\n",
            "2.74\n",
            "https://www.scijournal.org/impact-factor-of-Infect-Immun.shtml\n",
            "3.201\n",
            "https://www.scijournal.org/impact-factor-of-PeerJ.shtml\n",
            "2.379\n",
            "https://www.scijournal.org/impact-factor-of-Pathogens.shtml\n",
            "https://www.scijournal.org/impact-factor-of-Nat-Commun.shtml\n",
            "12.121\n",
            "https://www.scijournal.org/impact-factor-of-mSphere.shtml\n",
            "4.282\n",
            "https://www.scijournal.org/impact-factor-of-Mol-Cell-Proteomics.shtml\n",
            "4.87\n",
            "https://www.scijournal.org/impact-factor-of-Antimicrob-Agents-Chemother.shtml\n",
            "https://pubmed.ncbi.nlm.nih.gov/?linkname=pubmed_pubmed_citedin&from_uid=25118243&page=1 None None None [Item(journal_name=['mBio.', '2014.'], journal_name_short='mBio.', impact=6.784), Item(journal_name=['Infect', 'Immun.', '2021.'], journal_name_short='Infect-Immun.', impact=3.201), Item(journal_name=['PLoS', 'One.', '2021.'], journal_name_short='PLoS-One.', impact=2.74), Item(journal_name=['Infect', 'Immun.', '2021.'], journal_name_short='Infect-Immun.', impact=3.201), Item(journal_name=['PeerJ.', '2020.'], journal_name_short='PeerJ.', impact=2.379), Item(journal_name=['Nat', 'Commun.', '2019.'], journal_name_short='Nat-Commun.', impact=12.121), Item(journal_name=['mSphere.', '2018.'], journal_name_short='mSphere.', impact=4.282), Item(journal_name=['Mol', 'Cell', 'Proteomics.', '2016.'], journal_name_short='Mol-Cell-Proteomics.', impact=4.87)]\n"
          ]
        }
      ]
    },
    {
      "cell_type": "code",
      "metadata": {
        "colab": {
          "base_uri": "https://localhost:8080/"
        },
        "id": "hQN7HmW0qIQd",
        "outputId": "477cea05-ffcd-4232-9a4b-a5d26da96da1"
      },
      "source": [
        "collect_article_info(25118243)"
      ],
      "execution_count": 197,
      "outputs": [
        {
          "output_type": "stream",
          "name": "stdout",
          "text": [
            "Link to the article on Pubmed: https://pubmed.ncbi.nlm.nih.gov/?linkname=pubmed_pubmed_citedin&from_uid=25118243&page=1 \n",
            "\n",
            "Articles information:  {'PMID': '25118243', 'Title: ': 'Fur is the master regulator of', 'Journal name: ': 'mBio. 2014.'}\n",
            "Articles information:  {'PMID': '34181459', 'Title: ': 'Surviving Serum: the Escherich', 'Journal name: ': 'Infect Immun. 2021.'}\n",
            "Articles information:  {'PMID': '34038483', 'Title: ': 'Transcriptome analysis unveils', 'Journal name: ': 'PLoS One. 2021.'}\n",
            "Articles information:  {'PMID': '33139383', 'Title: ': '(p)ppGpp-Dependent Regulation ', 'Journal name: ': 'Infect Immun. 2021.'}\n",
            "Articles information:  {'PMID': '33083114', 'Title: ': 'Master regulator genes and the', 'Journal name: ': 'PeerJ. 2020.'}\n",
            "Articles information:  {'PMID': '32443590', 'Title: ': 'Streptococcus suis Uptakes Car', 'Journal name: ': 'Pathogens. 2020.'}\n",
            "Articles information:  {'PMID': '31346171', 'Title: ': 'Glycine, serine and threonine ', 'Journal name: ': 'Nat Commun. 2019.'}\n",
            "Articles information:  {'PMID': '30404929', 'Title: ': 'Complement Susceptibility in R', 'Journal name: ': 'mSphere. 2018.'}\n",
            "Articles information:  {'PMID': '27364158', 'Title: ': 'Coordination of Metabolism and', 'Journal name: ': 'Mol Cell Proteomics. 2016.'}\n",
            "Articles information:  {'PMID': '25779571', 'Title: ': 'Bactericidal monoclonal antibo', 'Journal name: ': 'Antimicrob Agents Chemother. 2015.'}\n"
          ]
        }
      ]
    },
    {
      "cell_type": "code",
      "metadata": {
        "colab": {
          "base_uri": "https://localhost:8080/"
        },
        "id": "-jeowWbRrdXu",
        "outputId": "af9e0777-45fd-45a6-a92c-1a42f062c5db"
      },
      "source": [
        "get_journal_impact_factor_url(25118243)"
      ],
      "execution_count": 203,
      "outputs": [
        {
          "output_type": "stream",
          "name": "stdout",
          "text": [
            "Link to the article on Pubmed: https://pubmed.ncbi.nlm.nih.gov/?linkname=pubmed_pubmed_citedin&from_uid=25118243&page=1 \n",
            "\n",
            "mBio. 2014.\n",
            "https://www.scijournal.org/impact-factor-of-mBio.shtml\n",
            "\n",
            "                  6.784\n",
            "                \n",
            "https://www.scijournal.org/impact-factor-of-Infect-Immun.shtml\n",
            "\n",
            "                  3.201\n",
            "                \n",
            "https://www.scijournal.org/impact-factor-of-PLoS-One.shtml\n",
            "\n",
            "                  2.74\n",
            "                \n",
            "https://www.scijournal.org/impact-factor-of-Infect-Immun.shtml\n",
            "\n",
            "                  3.201\n",
            "                \n",
            "https://www.scijournal.org/impact-factor-of-PeerJ.shtml\n",
            "\n",
            "                  2.379\n",
            "                \n",
            "https://www.scijournal.org/impact-factor-of-Pathogens.shtml\n",
            "https://www.scijournal.org/impact-factor-of-Nat-Commun.shtml\n",
            "\n",
            "                  12.121\n",
            "                \n",
            "https://www.scijournal.org/impact-factor-of-mSphere.shtml\n",
            "\n",
            "                  4.282\n",
            "                \n",
            "https://www.scijournal.org/impact-factor-of-Mol-Cell-Proteomics.shtml\n",
            "\n",
            "                  4.87\n",
            "                \n",
            "https://www.scijournal.org/impact-factor-of-Antimicrob-Agents-Chemother.shtml\n"
          ]
        }
      ]
    },
    {
      "cell_type": "code",
      "metadata": {
        "colab": {
          "base_uri": "https://localhost:8080/"
        },
        "id": "YSWrtATIClNE",
        "outputId": "7016d1c0-4f1c-4575-95c9-3bd8206f26e8"
      },
      "source": [
        "get_journal_impact_factor_url(25118243)"
      ],
      "execution_count": 182,
      "outputs": [
        {
          "output_type": "stream",
          "name": "stdout",
          "text": [
            "\n",
            "                  6.784\n",
            "                \n",
            "\n",
            "                  3.201\n",
            "                \n",
            "\n",
            "                  2.74\n",
            "                \n",
            "\n",
            "                  3.201\n",
            "                \n",
            "\n",
            "                  2.379\n",
            "                \n",
            "\n",
            "                  12.121\n",
            "                \n",
            "\n",
            "                  4.282\n",
            "                \n",
            "\n",
            "                  4.87\n",
            "                \n"
          ]
        }
      ]
    },
    {
      "cell_type": "code",
      "metadata": {
        "id": "FGvkl6ExlJzA"
      },
      "source": [
        ""
      ],
      "execution_count": null,
      "outputs": []
    }
  ]
}