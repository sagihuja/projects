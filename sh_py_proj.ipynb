{
 "cells": [
  {
   "cell_type": "markdown",
   "metadata": {
    "id": "G5UdAVDFYOuW"
   },
   "source": [
    "**Move from unstructured data to structured**\n",
    "<br> Requirements:<br> The user enters a Pubmed_id (PMID) for an article and receives back a list of all the articles that cited it back.\n",
    "\n",
    "Optional improvements, add more layers to the data: <br> \n",
    "    how many citation the child articles have <br> \n",
    "    which are the Universities that held the researc(geographical spread).\n",
    "    start by providing the article name and not PMID <br>\n",
    "    Wrap script in user friendly interface\n"
   ]
  },
  {
   "cell_type": "code",
   "execution_count": 7,
   "metadata": {
    "id": "JjD5lXaukE2k"
   },
   "outputs": [],
   "source": [
    "import requests\n",
    "#import urllib.request\n",
    "import re\n",
    "from bs4 import BeautifulSoup as bs"
   ]
  },
  {
   "cell_type": "code",
   "execution_count": 41,
   "metadata": {
    "id": "DBb5VG4skVI9"
   },
   "outputs": [],
   "source": [
    "###Enter srticale_id  \n",
    "\n",
    "#r = requests.get('https://pubmed.ncbi.nlm.nih.gov/25118243/')\n",
    "#r.raise_for_status()\n",
    "\n",
    "def get_art(article): \n",
    "    \"\"\"\n",
    "    get_art is a function that receives the article id and generates the \"pubmed\" url\n",
    "    \"\"\"                                                           \n",
    "    article_id = article\n",
    "    server = 'https://pubmed.ncbi.nlm.nih.gov/'\n",
    "    url = f'{server}/{article_id}/'\n",
    "    print('Link to the article on Pubmed:',url,'\\n')\n",
    "    \n",
    "    try:\n",
    "      r = requests.get(url)\n",
    "      r.raise_for_status()\n",
    "    except requests.exceptions.RequestException as e:\n",
    "      raise SystemError(e)\n",
    "\n",
    "    return r\n",
    "\n",
    "def get_cited_amount(artnumber):\n",
    "    soup = bs(get_art(artnumber).content, 'html5lib')\n",
    "    find_amount = soup.find_all('em', attrs={'class': 'amount'})\n",
    "    for line in find_amount:\n",
    "      print(f\"Citation Amount: {line.text}\\n\")"
   ]
  },
  {
   "cell_type": "code",
   "execution_count": 42,
   "metadata": {
    "colab": {
     "base_uri": "https://localhost:8080/"
    },
    "id": "j4kTX8sWtUi1",
    "outputId": "0b4fd051-581d-44b3-c041-8b17c4b2df13"
   },
   "outputs": [
    {
     "name": "stdout",
     "output_type": "stream",
     "text": [
      "Link to the article on Pubmed: https://pubmed.ncbi.nlm.nih.gov//25118243/ \n",
      "\n",
      "Citation Amount: 10\n",
      "\n"
     ]
    }
   ],
   "source": [
    "get_cited_amount(25118243)\n"
   ]
  }
 ],
 "metadata": {
  "colab": {
   "collapsed_sections": [],
   "name": "sh_py_proj.ipynb",
   "provenance": []
  },
  "kernelspec": {
   "display_name": "Python 3",
   "name": "python3"
  },
  "language_info": {
   "name": "python"
  }
 },
 "nbformat": 4,
 "nbformat_minor": 0
}
