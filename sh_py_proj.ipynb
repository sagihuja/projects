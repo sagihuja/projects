{
  "nbformat": 4,
  "nbformat_minor": 0,
  "metadata": {
    "colab": {
      "name": "sh_py_proj.ipynb",
      "provenance": [],
      "collapsed_sections": [],
      "toc_visible": true,
      "authorship_tag": "ABX9TyPJREV7QvnWEd+LI8mHac1G",
      "include_colab_link": true
    },
    "kernelspec": {
      "name": "python3",
      "display_name": "Python 3"
    },
    "language_info": {
      "name": "python"
    }
  },
  "cells": [
    {
      "cell_type": "markdown",
      "metadata": {
        "id": "view-in-github",
        "colab_type": "text"
      },
      "source": [
        "<a href=\"https://colab.research.google.com/github/sagihuja/projects/blob/main/sh_py_proj.ipynb\" target=\"_parent\"><img src=\"https://colab.research.google.com/assets/colab-badge.svg\" alt=\"Open In Colab\"/></a>"
      ]
    },
    {
      "cell_type": "markdown",
      "metadata": {
        "id": "G5UdAVDFYOuW"
      },
      "source": [
        "**Move from unstructured data to structured**\n",
        "<br> Requirements:<br> The user enters a Pubmed_id (PMID) for an article and receives back a list of all the articles that cited it back.\n",
        "\n",
        "Optional improvements, add more layers to the data: <br> \n",
        "    how many citation the child articles have <br> \n",
        "    which are the Universities that held the researc(geographical spread).\n",
        "    start by providing the article name and not PMID <br>\n",
        "    Wrap script in user friendly interface\n"
      ]
    },
    {
      "cell_type": "code",
      "metadata": {
        "id": "JjD5lXaukE2k"
      },
      "source": [
        "import requests\n",
        "#import urllib.request\n",
        "import re\n",
        "from bs4 import BeautifulSoup as bs"
      ],
      "execution_count": 2,
      "outputs": []
    },
    {
      "cell_type": "code",
      "metadata": {
        "id": "DBb5VG4skVI9"
      },
      "source": [
        "###Enter srticale_id  \n",
        "\n",
        "def get_art(article): \n",
        "    \"\"\"\n",
        "    get_art is a function that receives the PMID and generates the \"pubmed\" url.\n",
        "    \"\"\"     \n",
        "    article_id = article\n",
        "    server = 'https://pubmed.ncbi.nlm.nih.gov/'\n",
        "    url = f'{server}/{article_id}/'\n",
        "    print('Link to the article on Pubmed:',url,'\\n')\n",
        "    \n",
        "    try:\n",
        "      r = requests.get(url)\n",
        "      r.raise_for_status()\n",
        "    except requests.exceptions.RequestException as e:\n",
        "      raise SystemError(e)\n",
        "\n",
        "    return r\n",
        "\n",
        "def get_cited_amount(artnumber):\n",
        "    \"\"\"\n",
        "    This function received the article number and retreives the number of times\n",
        "    it was citated back.\n",
        "    \"\"\"\n",
        "    soup = bs(get_art(artnumber).content, 'html5lib')\n",
        "    find_amount = soup.find_all('em', attrs={'class': 'amount'})\n",
        "    for line in find_amount:\n",
        "      print(f\"Citation Amount: {line.text}\\n\")\n",
        "\n",
        "def get_full_list(): \n",
        "    \"\"\"\n",
        "   get_full_list is a function that receives the PMID and generates .\n",
        "    \"\"\"     \n",
        "    article_2 = input('what is your PMID? ')\n",
        "    server_2 = 'https://pubmed.ncbi.nlm.nih.gov/?linkname=pubmed_pubmed_citedin&from_uid='\n",
        "    url_2 = f'{server_2}{article_2}'\n",
        "    print('Link to the full list of citeting articles:',url_2,'\\n')\n",
        "\n",
        "    try:\n",
        "      r_2 = requests.get(url_2)\n",
        "      r_2.raise_for_status()\n",
        "    except requests.exceptions.RequestException as e:\n",
        "      raise SystemError(e)\n",
        "\n",
        "    return r_2"
      ],
      "execution_count": 4,
      "outputs": []
    },
    {
      "cell_type": "markdown",
      "metadata": {
        "id": "ccqfnTiTt6UJ"
      },
      "source": [
        "# New section"
      ]
    },
    {
      "cell_type": "code",
      "metadata": {
        "colab": {
          "base_uri": "https://localhost:8080/"
        },
        "id": "j4kTX8sWtUi1",
        "outputId": "be7794f4-373a-408c-9252-fbde2d27fde1"
      },
      "source": [
        "get_art(25118243)\n"
      ],
      "execution_count": 5,
      "outputs": [
        {
          "output_type": "stream",
          "name": "stdout",
          "text": [
            "Link to the article on Pubmed: https://pubmed.ncbi.nlm.nih.gov//25118243/ \n",
            "\n"
          ]
        },
        {
          "output_type": "execute_result",
          "data": {
            "text/plain": [
              "<Response [200]>"
            ]
          },
          "metadata": {},
          "execution_count": 5
        }
      ]
    },
    {
      "cell_type": "code",
      "metadata": {
        "colab": {
          "base_uri": "https://localhost:8080/"
        },
        "id": "qcYSLeyXWJLM",
        "outputId": "c685f6a0-cbd4-45f6-ff63-6ed4ae99e6d2"
      },
      "source": [
        "get_cited_amount(25118243)"
      ],
      "execution_count": 6,
      "outputs": [
        {
          "output_type": "stream",
          "name": "stdout",
          "text": [
            "Link to the article on Pubmed: https://pubmed.ncbi.nlm.nih.gov//25118243/ \n",
            "\n",
            "Citation Amount: 10\n",
            "\n"
          ]
        }
      ]
    },
    {
      "cell_type": "code",
      "metadata": {
        "colab": {
          "base_uri": "https://localhost:8080/"
        },
        "id": "EF5TTZt8W0Al",
        "outputId": "0cbdaa6a-193e-4cf8-981d-caf285136bcc"
      },
      "source": [
        "get_full_list()"
      ],
      "execution_count": 62,
      "outputs": [
        {
          "output_type": "stream",
          "name": "stdout",
          "text": [
            "what is your PMID? 25118243\n",
            "Link to the full list of citeted articles: https://pubmed.ncbi.nlm.nih.gov/?linkname=pubmed_pubmed_citedin&from_uid=25118243 \n",
            "\n"
          ]
        },
        {
          "output_type": "execute_result",
          "data": {
            "text/plain": [
              "<Response [200]>"
            ]
          },
          "metadata": {},
          "execution_count": 62
        }
      ]
    },
    {
      "cell_type": "code",
      "metadata": {
        "id": "Rsoadu-lXz68"
      },
      "source": [
        "root = Article(25118243)\n",
        "print(root) # \"Article: 'Alternartive splicing...', 10 Citings, impact 20, publication=nature \" \n",
        "for article in root.get_cited_by():\n",
        "    print(article)\n",
        "print(root.total_impact())\n",
        "print(sum([article.impact for article in root.get_cited_by()])) \n",
        "\n",
        "first_degree = {article for article in root.get_cited_by()}\n",
        "seconds_degree = {article2 for article in first_degree for article2 in article.get_cited_by()}\n",
        "total = first_degree | seconds_degree\n",
        "\n",
        "assert total == article.get_cited_by(degrees=2) "
      ],
      "execution_count": null,
      "outputs": []
    },
    {
      "cell_type": "code",
      "metadata": {
        "id": "3OJdMFyBro94"
      },
      "source": [
        ""
      ],
      "execution_count": null,
      "outputs": []
    }
  ]
}